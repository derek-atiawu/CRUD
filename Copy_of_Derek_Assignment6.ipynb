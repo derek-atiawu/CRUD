{
  "nbformat": 4,
  "nbformat_minor": 0,
  "metadata": {
    "colab": {
      "provenance": [],
      "authorship_tag": "ABX9TyNSJXfRzAWenMDliYzkCgsW",
      "include_colab_link": true
    },
    "kernelspec": {
      "name": "python3",
      "display_name": "Python 3"
    },
    "language_info": {
      "name": "python"
    }
  },
  "cells": [
    {
      "cell_type": "markdown",
      "metadata": {
        "id": "view-in-github",
        "colab_type": "text"
      },
      "source": [
        "<a href=\"https://colab.research.google.com/github/derek-atiawu/CRUD/blob/main/Copy_of_Derek_Assignment6.ipynb\" target=\"_parent\"><img src=\"https://colab.research.google.com/assets/colab-badge.svg\" alt=\"Open In Colab\"/></a>"
      ]
    },
    {
      "cell_type": "code",
      "execution_count": null,
      "metadata": {
        "id": "G8aWofbMR0Xg"
      },
      "outputs": [],
      "source": [
        "from pyspark.sql import SQLContext\n",
        "from pyspark.sql.types import *\n",
        "from pyspark.sql import Row\n",
        "from pyspark import SparkContext\n",
        "from pyspark.sql import SparkSession"
      ]
    },
    {
      "cell_type": "code",
      "source": [
        "# Create a Spark session\n",
        "spark = SparkSession.builder \\\n",
        "    .appName(\"Amazon Sales Analysis\") \\\n",
        "    .getOrCreate()"
      ],
      "metadata": {
        "id": "7sS2UZGCT3FJ"
      },
      "execution_count": null,
      "outputs": []
    },
    {
      "cell_type": "code",
      "source": [
        "# Load the dataset\n",
        "df = spark.read.csv(\"AmazonSales.csv\", header=True, inferSchema=True)"
      ],
      "metadata": {
        "id": "2_sFje8fUAcq"
      },
      "execution_count": null,
      "outputs": []
    },
    {
      "cell_type": "code",
      "source": [
        "# Register the DataFrame as a temporary view\n",
        "df.createOrReplaceTempView(\"AmazonSales\")"
      ],
      "metadata": {
        "id": "alRVFzrmUGhN"
      },
      "execution_count": null,
      "outputs": []
    },
    {
      "cell_type": "code",
      "source": [
        "query1 = \"\"\"\n",
        "SELECT category, COUNT(order_id) AS number_of_orders\n",
        "FROM AmazonSales\n",
        "GROUP BY category\n",
        "ORDER BY number_of_orders DESC\n",
        "LIMIT 5\n",
        "\"\"\"\n",
        "result1 = spark.sql(query1)\n",
        "result1.show()"
      ],
      "metadata": {
        "colab": {
          "base_uri": "https://localhost:8080/"
        },
        "id": "YqwGzXLVUKpG",
        "outputId": "2ca97307-c67f-4235-ab0c-bb491611e5eb"
      },
      "execution_count": null,
      "outputs": [
        {
          "output_type": "stream",
          "name": "stdout",
          "text": [
            "+-----------------+----------------+\n",
            "|         category|number_of_orders|\n",
            "+-----------------+----------------+\n",
            "|Mobiles & Tablets|           61761|\n",
            "|    Men's Fashion|           40713|\n",
            "|       Appliances|           33034|\n",
            "|  Women's Fashion|           28334|\n",
            "|           Others|           26108|\n",
            "+-----------------+----------------+\n",
            "\n"
          ]
        }
      ]
    },
    {
      "cell_type": "code",
      "source": [
        "query2 = \"\"\"\n",
        "SELECT RIGHT(order_date, 4) AS year, COUNT(DISTINCT order_id) AS unique_orders\n",
        "FROM AmazonSales\n",
        "GROUP BY RIGHT(order_date, 4)\n",
        "ORDER BY year\n",
        "\"\"\"\n",
        "result2 = spark.sql(query2)\n",
        "result2.show()"
      ],
      "metadata": {
        "colab": {
          "base_uri": "https://localhost:8080/"
        },
        "id": "UxberlQ2UNn3",
        "outputId": "d4d4b146-dd76-43b9-9e81-5aae1911d8b6"
      },
      "execution_count": null,
      "outputs": [
        {
          "output_type": "stream",
          "name": "stdout",
          "text": [
            "+----+-------------+\n",
            "|year|unique_orders|\n",
            "+----+-------------+\n",
            "|2020|        75280|\n",
            "|2021|       126436|\n",
            "+----+-------------+\n",
            "\n"
          ]
        }
      ]
    },
    {
      "cell_type": "code",
      "source": [
        "query3 = \"\"\"\n",
        "SELECT payment_method, COUNT(order_id) AS number_of_orders\n",
        "FROM AmazonSales\n",
        "GROUP BY payment_method\n",
        "ORDER BY number_of_orders DESC\n",
        "\"\"\"\n",
        "result3 = spark.sql(query3)\n",
        "result3.show()"
      ],
      "metadata": {
        "colab": {
          "base_uri": "https://localhost:8080/"
        },
        "id": "DAy1pjv0UTwJ",
        "outputId": "26d7d34b-ab16-417a-f2fb-2fd45f2dab87"
      },
      "execution_count": null,
      "outputs": [
        {
          "output_type": "stream",
          "name": "stdout",
          "text": [
            "+-----------------+----------------+\n",
            "|   payment_method|number_of_orders|\n",
            "+-----------------+----------------+\n",
            "|              cod|          102916|\n",
            "|          Easypay|           69679|\n",
            "|          Payaxis|           31049|\n",
            "|  easypay_voucher|           29763|\n",
            "|      bankalfalah|           23057|\n",
            "|       Easypay_MA|           11536|\n",
            "|       jazzwallet|            6669|\n",
            "|      jazzvoucher|            6045|\n",
            "|   customercredit|            3702|\n",
            "|              apg|            1758|\n",
            "|          mcblite|             208|\n",
            "|   cashatdoorstep|               9|\n",
            "|financesettlement|               1|\n",
            "+-----------------+----------------+\n",
            "\n"
          ]
        }
      ]
    },
    {
      "cell_type": "code",
      "source": [
        "query4 = \"\"\"\n",
        "SELECT category, AVG(total) AS average_order_total\n",
        "FROM AmazonSales\n",
        "GROUP BY category\n",
        "ORDER BY average_order_total DESC\n",
        "\"\"\"\n",
        "result4 = spark.sql(query4)\n",
        "result4.show()"
      ],
      "metadata": {
        "colab": {
          "base_uri": "https://localhost:8080/"
        },
        "id": "68L90p3UUX0p",
        "outputId": "dbb63cc6-192b-4a4c-b1f0-47baa157dc15"
      },
      "execution_count": null,
      "outputs": [
        {
          "output_type": "stream",
          "name": "stdout",
          "text": [
            "+------------------+-------------------+\n",
            "|          category|average_order_total|\n",
            "+------------------+-------------------+\n",
            "| Mobiles & Tablets|   2106.70153903618|\n",
            "|     Entertainment|  1563.994630129124|\n",
            "|         Computing| 1154.4196472231836|\n",
            "|        Appliances|  909.9968388236853|\n",
            "|            Others|  596.1519210579124|\n",
            "|   Women's Fashion| 234.69477042173952|\n",
            "|        Superstore| 192.15299608360002|\n",
            "| Beauty & Grooming| 147.75951570925588|\n",
            "|       Kids & Baby| 131.88744249075904|\n",
            "|     Home & Living| 129.41975067763187|\n",
            "|   Health & Sports| 121.12071903930813|\n",
            "|     Men's Fashion| 118.39330443001268|\n",
            "|School & Education| 105.26616344036708|\n",
            "|           Soghaat|  79.54481969655193|\n",
            "|             Books|  39.82426557739554|\n",
            "+------------------+-------------------+\n",
            "\n"
          ]
        }
      ]
    },
    {
      "cell_type": "code",
      "source": [
        "query5 = \"\"\"\n",
        "SELECT order_id, category, total, full_name\n",
        "FROM AmazonSales\n",
        "WHERE status = 'canceled'\n",
        "ORDER BY total DESC\n",
        "LIMIT 5\n",
        "\"\"\"\n",
        "result5 = spark.sql(query5)\n",
        "result5.show()"
      ],
      "metadata": {
        "colab": {
          "base_uri": "https://localhost:8080/"
        },
        "id": "IzDziNiZUbCD",
        "outputId": "6fe4b199-d2ce-4834-f108-08682dd40cbc"
      },
      "execution_count": null,
      "outputs": [
        {
          "output_type": "stream",
          "name": "stdout",
          "text": [
            "+---------+-----------------+---------+--------------+\n",
            "| order_id|         category|    total|     full_name|\n",
            "+---------+-----------------+---------+--------------+\n",
            "|100510800|Beauty & Grooming|101262.59| Davison, Jeff|\n",
            "|100510802|Mobiles & Tablets|  81500.0|Duby, Eustolia|\n",
            "|100515480|Mobiles & Tablets|  63888.5|    Lear, Elmo|\n",
            "|100526159|Mobiles & Tablets|  55500.0|  Hord, Adolfo|\n",
            "|100533797|Mobiles & Tablets|  55500.0|  Hord, Adolfo|\n",
            "+---------+-----------------+---------+--------------+\n",
            "\n"
          ]
        }
      ]
    }
  ]
}